{
 "cells": [
  {
   "cell_type": "code",
   "execution_count": 63,
   "id": "642332e1-722a-4408-8efa-4d48522b744f",
   "metadata": {},
   "outputs": [],
   "source": [
    "import pandas as pd\n",
    "import geopandas as gpd\n",
    "import h3\n",
    "\n",
    "from shapely.geometry import Polygon"
   ]
  },
  {
   "cell_type": "markdown",
   "id": "d3bee014-1383-4943-ac05-09d6aed26df4",
   "metadata": {},
   "source": [
    "### Convert Avrora locations in CSV to GeoJSON"
   ]
  },
  {
   "cell_type": "code",
   "execution_count": 75,
   "id": "a2de9fd7-402a-402a-bf96-51c5614e3a64",
   "metadata": {},
   "outputs": [],
   "source": [
    "def csv_to_geojson(csv_path: str, geojson_path: str) -> None:\n",
    "    df = pd.read_csv(csv_path).dropna(subset=['latitude', 'longitude'])\n",
    "    gdf = gpd.GeoDataFrame(\n",
    "        df.drop(columns=['latitude', 'longitude']),\n",
    "        geometry=gpd.points_from_xy(df.longitude, df.latitude), \n",
    "        crs='EPSG:4326'\n",
    "    )\n",
    "    gdf.to_file(geojson_path, driver='GeoJSON', encoding='utf-8')"
   ]
  },
  {
   "cell_type": "code",
   "execution_count": 77,
   "id": "02802d94-d0ce-45a0-baa5-47a0f99d0bfc",
   "metadata": {},
   "outputs": [],
   "source": [
    "for city in ['kyiv', 'lviv']:\n",
    "    csv_to_geojson(\n",
    "        f'geodata/{city}/{city}-avrora-locations.csv',\n",
    "        f'geodata/{city}/{city}-avrora-locations.geojson'\n",
    "    )"
   ]
  },
  {
   "cell_type": "markdown",
   "id": "8b21e654-1096-48a5-a369-05cb09adaa5e",
   "metadata": {},
   "source": [
    "### Convert cities boundaries to hexagonal polygons"
   ]
  },
  {
   "cell_type": "code",
   "execution_count": 78,
   "id": "b92471a1-77be-42e3-ac8f-fb429d9c106f",
   "metadata": {},
   "outputs": [],
   "source": [
    "def convert_boundary_to_polygons(boundary_path: str, polygons_path: str, resolution: int) -> None:\n",
    "    \n",
    "    boundary_geom = gpd.read_file(boundary_path).to_crs('EPSG:4326').union_all()\n",
    "    boundary_polygon = h3.LatLngPoly([(lat, lng) for lng, lat in boundary_geom.exterior.coords])\n",
    "    \n",
    "    city_cells = h3.polygon_to_cells(boundary_polygon, resolution)\n",
    "    city_polygons = [Polygon([(lng, lat) for lat, lng in h3.cell_to_boundary(cell)]) for cell in city_cells]\n",
    "    \n",
    "    gdf = gpd.GeoDataFrame({'cell': list(city_cells), 'geometry': city_polygons}, crs='EPSG:4326')\n",
    "    gdf.to_file(polygons_path, driver='GeoJSON', encoding='utf-8')"
   ]
  },
  {
   "cell_type": "code",
   "execution_count": 79,
   "id": "947c22e3-a347-428f-9878-191dec666853",
   "metadata": {},
   "outputs": [],
   "source": [
    "for city in ['kyiv', 'lviv']:\n",
    "    for resolution in [7, 8, 9]:\n",
    "        convert_boundary_to_polygons(\n",
    "            f'geodata/{city}/{city}-boundary.geojson', \n",
    "            f'geodata/{city}/{city}-polygons-{resolution}.geojson', \n",
    "            resolution\n",
    "        )"
   ]
  }
 ],
 "metadata": {
  "kernelspec": {
   "display_name": "Python 3 (ipykernel)",
   "language": "python",
   "name": "python3"
  },
  "language_info": {
   "codemirror_mode": {
    "name": "ipython",
    "version": 3
   },
   "file_extension": ".py",
   "mimetype": "text/x-python",
   "name": "python",
   "nbconvert_exporter": "python",
   "pygments_lexer": "ipython3",
   "version": "3.12.11"
  }
 },
 "nbformat": 4,
 "nbformat_minor": 5
}
