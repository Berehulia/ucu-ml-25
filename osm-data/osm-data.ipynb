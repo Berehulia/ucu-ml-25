{
 "cells": [
  {
   "cell_type": "code",
   "execution_count": 95,
   "id": "0e5853b9-400e-4b79-a5c2-19943d088cab",
   "metadata": {},
   "outputs": [],
   "source": [
    "import json\n",
    "import pandas as pd\n",
    "from shapely.geometry import shape"
   ]
  },
  {
   "cell_type": "code",
   "execution_count": 96,
   "id": "7773dc56-da09-40fc-8384-0b2354b9862d",
   "metadata": {},
   "outputs": [],
   "source": [
    "with open('data/lviv.geojson', 'r', encoding='utf-8') as f:\n",
    "    data = json.load(f)\n",
    "    features = data.get('features', [])\n",
    "    df = pd.DataFrame([f['properties'] for f in features])"
   ]
  },
  {
   "cell_type": "code",
   "execution_count": 97,
   "id": "c7c823de-bb81-4f23-8b9b-2e07d20914f7",
   "metadata": {},
   "outputs": [
    {
     "data": {
      "text/plain": [
       "amenity\n",
       "bench             2596\n",
       "parking           1578\n",
       "waste_basket      1043\n",
       "parking_space      925\n",
       "waste_disposal     821\n",
       "                  ... \n",
       "watering_place       1\n",
       "training             1\n",
       "stripclub            1\n",
       "dressing_room        1\n",
       "brothel              1\n",
       "Name: count, Length: 101, dtype: int64"
      ]
     },
     "execution_count": 97,
     "metadata": {},
     "output_type": "execute_result"
    }
   ],
   "source": [
    "df['amenity'].value_counts()"
   ]
  },
  {
   "cell_type": "code",
   "execution_count": 98,
   "id": "ab840e0b-187a-4ccd-b2ec-2067f66d98f6",
   "metadata": {},
   "outputs": [
    {
     "data": {
      "text/plain": [
       "craft\n",
       "shoemaker                  55\n",
       "tailor                     36\n",
       "electronics_repair         26\n",
       "window_construction        22\n",
       "key_cutter                 16\n",
       "electrician                13\n",
       "optician                    7\n",
       "dressmaker                  7\n",
       "brewery                     7\n",
       "photographic_laboratory     6\n",
       "watchmaker                  6\n",
       "jeweller                    5\n",
       "glaziery                    5\n",
       "clockmaker                  5\n",
       "locksmith                   4\n",
       "photographer                4\n",
       "handicraft                  3\n",
       "confectionery               3\n",
       "roofer                      3\n",
       "beekeeper                   3\n",
       "carpenter                   2\n",
       "upholsterer                 2\n",
       "blacksmith                  2\n",
       "oil_mill                    1\n",
       "sculptor                    1\n",
       "metal_construction          1\n",
       "bookbinder                  1\n",
       "repair                      1\n",
       "plumber                     1\n",
       "stonemason                  1\n",
       "painter                     1\n",
       "gardener                    1\n",
       "photo_studio                1\n",
       "tiler                       1\n",
       "hvac                        1\n",
       "scaffolder                  1\n",
       "sharpener                   1\n",
       "agricultural_engines        1\n",
       "pottery                     1\n",
       "insulation                  1\n",
       "Name: count, dtype: int64"
      ]
     },
     "execution_count": 98,
     "metadata": {},
     "output_type": "execute_result"
    }
   ],
   "source": [
    "df['craft'].value_counts()"
   ]
  },
  {
   "cell_type": "code",
   "execution_count": 99,
   "id": "bce344c9-2224-4d98-98d4-ff03c81adb63",
   "metadata": {},
   "outputs": [
    {
     "data": {
      "text/plain": [
       "healthcare\n",
       "pharmacy             339\n",
       "dentist              102\n",
       "clinic                83\n",
       "hospital              64\n",
       "laboratory            36\n",
       "doctor                32\n",
       "sample_collection     21\n",
       "yes                    4\n",
       "rehabilitation         4\n",
       "psychotherapist        3\n",
       "speech_therapist       2\n",
       "centre                 2\n",
       "birthing_centre        2\n",
       "podiatrist             2\n",
       "blood_donation         1\n",
       "counselling            1\n",
       "optometrist            1\n",
       "Name: count, dtype: int64"
      ]
     },
     "execution_count": 99,
     "metadata": {},
     "output_type": "execute_result"
    }
   ],
   "source": [
    "df['healthcare'].value_counts()"
   ]
  },
  {
   "cell_type": "code",
   "execution_count": 100,
   "id": "5496aabb-72b6-4fb8-8358-408580e08c18",
   "metadata": {},
   "outputs": [
    {
     "data": {
      "text/plain": [
       "historic\n",
       "memorial               194\n",
       "tomb                    53\n",
       "wayside_cross           53\n",
       "yes                     24\n",
       "monument                20\n",
       "house                   18\n",
       "ruins                   13\n",
       "vehicle                 13\n",
       "railway_car             11\n",
       "railway                 10\n",
       "church                   7\n",
       "building                 6\n",
       "tower                    4\n",
       "castle                   4\n",
       "heritage                 3\n",
       "citywalls                3\n",
       "tank                     2\n",
       "water_well               2\n",
       "fort                     2\n",
       "barn                     1\n",
       "rotunda                  1\n",
       "city_gate                1\n",
       "manor                    1\n",
       "archaeological_site      1\n",
       "watermill                1\n",
       "school                   1\n",
       "chapel                   1\n",
       "wayside_shrine           1\n",
       "locomotive               1\n",
       "cannon                   1\n",
       "ship                     1\n",
       "Name: count, dtype: int64"
      ]
     },
     "execution_count": 100,
     "metadata": {},
     "output_type": "execute_result"
    }
   ],
   "source": [
    "df['historic'].value_counts()"
   ]
  },
  {
   "cell_type": "code",
   "execution_count": 101,
   "id": "bd34aa7d-9653-47e0-b92f-722ae49f9d97",
   "metadata": {},
   "outputs": [
    {
     "data": {
      "text/plain": [
       "leisure\n",
       "playground         765\n",
       "pitch              449\n",
       "fitness_station    166\n",
       "park               109\n",
       "track               65\n",
       "fitness_centre      49\n",
       "sports_centre       41\n",
       "garden              32\n",
       "stadium             26\n",
       "picnic_table        23\n",
       "swimming_pool       22\n",
       "sauna               14\n",
       "dog_park             9\n",
       "firepit              8\n",
       "bleachers            8\n",
       "outdoor_seating      7\n",
       "escape_game          5\n",
       "dance                4\n",
       "sports_hall          3\n",
       "ice_rink             3\n",
       "indoor_play          3\n",
       "horse_riding         2\n",
       "resort               1\n",
       "nature_reserve       1\n",
       "common               1\n",
       "bandstand            1\n",
       "trampoline_park      1\n",
       "tanning_salon        1\n",
       "Name: count, dtype: int64"
      ]
     },
     "execution_count": 101,
     "metadata": {},
     "output_type": "execute_result"
    }
   ],
   "source": [
    "df['leisure'].value_counts()"
   ]
  },
  {
   "cell_type": "code",
   "execution_count": 102,
   "id": "60e3ac0f-00b6-4f8e-906f-9832e9e75b4b",
   "metadata": {},
   "outputs": [
    {
     "data": {
      "text/plain": [
       "office\n",
       "company                    109\n",
       "notary                      75\n",
       "government                  74\n",
       "lawyer                      53\n",
       "insurance                   35\n",
       "it                          26\n",
       "estate_agent                19\n",
       "travel_agent                19\n",
       "ngo                         17\n",
       "diplomatic                  14\n",
       "telecommunication           13\n",
       "yes                         12\n",
       "coworking                   11\n",
       "research                     8\n",
       "educational_institution      6\n",
       "architect                    5\n",
       "advertising_agency           5\n",
       "association                  5\n",
       "accountant                   3\n",
       "foundation                   3\n",
       "administrative               2\n",
       "security                     2\n",
       "water_utility                2\n",
       "publisher                    2\n",
       "newspaper                    2\n",
       "consulting                   2\n",
       "political_party              2\n",
       "employment_agency            2\n",
       "property_management          1\n",
       "guide                        1\n",
       "translator                   1\n",
       "post_office                  1\n",
       "graphic_design               1\n",
       "quango                       1\n",
       "transport                    1\n",
       "energy_supplier              1\n",
       "psychologist                 1\n",
       "tutoring                     1\n",
       "Name: count, dtype: int64"
      ]
     },
     "execution_count": 102,
     "metadata": {},
     "output_type": "execute_result"
    }
   ],
   "source": [
    "df['office'].value_counts()"
   ]
  },
  {
   "cell_type": "code",
   "execution_count": 103,
   "id": "01a7eb5e-8073-4f37-bdef-a5a6e78083d0",
   "metadata": {},
   "outputs": [
    {
     "data": {
      "text/plain": [
       "public_transport\n",
       "platform         1373\n",
       "stop_position     789\n",
       "station            18\n",
       "Name: count, dtype: int64"
      ]
     },
     "execution_count": 103,
     "metadata": {},
     "output_type": "execute_result"
    }
   ],
   "source": [
    "df['public_transport'].value_counts()"
   ]
  },
  {
   "cell_type": "code",
   "execution_count": 104,
   "id": "3a09f65b-33a1-4614-9fca-f7c2d2ec7c33",
   "metadata": {},
   "outputs": [
    {
     "data": {
      "text/plain": [
       "shop\n",
       "convenience           779\n",
       "clothes               386\n",
       "alcohol               346\n",
       "general               332\n",
       "supermarket           212\n",
       "                     ... \n",
       "hairdresser_supply      1\n",
       "lottery                 1\n",
       "storage_rental          1\n",
       "hvac                    1\n",
       "printer_ink             1\n",
       "Name: count, Length: 151, dtype: int64"
      ]
     },
     "execution_count": 104,
     "metadata": {},
     "output_type": "execute_result"
    }
   ],
   "source": [
    "df['shop'].value_counts()"
   ]
  },
  {
   "cell_type": "code",
   "execution_count": 105,
   "id": "63a89a74-daa1-4464-b2c4-4a80aa0535a6",
   "metadata": {},
   "outputs": [
    {
     "data": {
      "text/plain": [
       "tourism\n",
       "hotel           110\n",
       "artwork          98\n",
       "hostel           65\n",
       "information      63\n",
       "museum           61\n",
       "attraction       51\n",
       "viewpoint        27\n",
       "apartment        19\n",
       "guest_house      11\n",
       "theme_park        7\n",
       "gallery           6\n",
       "picnic_site       6\n",
       "motel             5\n",
       "camp_site         2\n",
       "zoo               2\n",
       "resort            1\n",
       "chalet            1\n",
       "apartments        1\n",
       "caravan_site      1\n",
       "aquarium          1\n",
       "yes               1\n",
       "Name: count, dtype: int64"
      ]
     },
     "execution_count": 105,
     "metadata": {},
     "output_type": "execute_result"
    }
   ],
   "source": [
    "df['tourism'].value_counts()"
   ]
  },
  {
   "cell_type": "code",
   "execution_count": 106,
   "id": "23f8c99e-1755-453a-98a6-0f106d2cd28b",
   "metadata": {},
   "outputs": [
    {
     "data": {
      "text/plain": [
       "addr:street\n",
       "вулиця Тараса Шевченка        103\n",
       "Зелена вулиця                  75\n",
       "Городоцька вулиця              54\n",
       "Стрийська вулиця               51\n",
       "проспект Червоної Калини       51\n",
       "                             ... \n",
       "Підгірна вулиця                 1\n",
       "вулиця Віри, Надії, Любові      1\n",
       "Природна вулиця                 1\n",
       "вулиця Братів Дужих             1\n",
       "вулиця Івана Огієнка            1\n",
       "Name: count, Length: 505, dtype: int64"
      ]
     },
     "execution_count": 106,
     "metadata": {},
     "output_type": "execute_result"
    }
   ],
   "source": [
    "df['addr:street'].value_counts()"
   ]
  },
  {
   "cell_type": "code",
   "execution_count": 107,
   "id": "51889f6b-1b5f-4f4c-b6aa-f36ca6ae72e1",
   "metadata": {},
   "outputs": [],
   "source": [
    "columns = ['geometry', 'type', 'street', 'amenity', 'craft', 'healthcare', 'historic', 'leisure', 'office', 'public_transport', 'shop', 'tourism']"
   ]
  },
  {
   "cell_type": "code",
   "execution_count": 108,
   "id": "9373c88f-353f-4aad-af1c-3bda4810216b",
   "metadata": {},
   "outputs": [],
   "source": [
    "rows = []\n",
    "for feature in features:\n",
    "    \n",
    "    props = feature.get('properties', {})\n",
    "\n",
    "    rel_tags = {}\n",
    "    if '@relations' in props:\n",
    "        for rel in props['@relations']:\n",
    "            rel_tags.update(rel.get('reltags', {}))\n",
    "    \n",
    "    row = {\n",
    "        'geometry': str(shape(feature.get('geometry', {}))),\n",
    "        'type': props.get('type', rel_tags.get('type', None)),\n",
    "        'street': props.get('addr:street', None),\n",
    "        'amenity': props.get('amenity', rel_tags.get('amenity', None)),\n",
    "        'craft': props.get('craft', None),\n",
    "        'healthcare': props.get('healthcare', None),\n",
    "        'historic': props.get('historic', rel_tags.get('historic', None)),\n",
    "        'leisure': props.get('leisure', None),\n",
    "        'office': props.get('office', None),\n",
    "        'public_transport': props.get('public_transport', rel_tags.get('public_transport', None)),\n",
    "        'shop': props.get('shop', rel_tags.get('shop', None)),\n",
    "        'tourism': props.get('tourism', None)\n",
    "    }\n",
    "    rows.append(row)\n",
    "\n",
    "df = pd.DataFrame(rows, columns=columns)"
   ]
  },
  {
   "cell_type": "code",
   "execution_count": 109,
   "id": "2c96ec25-c1d9-4b77-b045-028537dc2867",
   "metadata": {},
   "outputs": [
    {
     "data": {
      "text/html": [
       "<div>\n",
       "<style scoped>\n",
       "    .dataframe tbody tr th:only-of-type {\n",
       "        vertical-align: middle;\n",
       "    }\n",
       "\n",
       "    .dataframe tbody tr th {\n",
       "        vertical-align: top;\n",
       "    }\n",
       "\n",
       "    .dataframe thead th {\n",
       "        text-align: right;\n",
       "    }\n",
       "</style>\n",
       "<table border=\"1\" class=\"dataframe\">\n",
       "  <thead>\n",
       "    <tr style=\"text-align: right;\">\n",
       "      <th></th>\n",
       "      <th>geometry</th>\n",
       "      <th>type</th>\n",
       "      <th>street</th>\n",
       "      <th>amenity</th>\n",
       "      <th>craft</th>\n",
       "      <th>healthcare</th>\n",
       "      <th>historic</th>\n",
       "      <th>leisure</th>\n",
       "      <th>office</th>\n",
       "      <th>public_transport</th>\n",
       "      <th>shop</th>\n",
       "      <th>tourism</th>\n",
       "    </tr>\n",
       "  </thead>\n",
       "  <tbody>\n",
       "    <tr>\n",
       "      <th>0</th>\n",
       "      <td>POLYGON ((24.0276306 49.8432171, 24.0276539 49...</td>\n",
       "      <td>multipolygon</td>\n",
       "      <td>проспект Свободи</td>\n",
       "      <td>None</td>\n",
       "      <td>None</td>\n",
       "      <td>None</td>\n",
       "      <td>None</td>\n",
       "      <td>None</td>\n",
       "      <td>None</td>\n",
       "      <td>None</td>\n",
       "      <td>None</td>\n",
       "      <td>museum</td>\n",
       "    </tr>\n",
       "    <tr>\n",
       "      <th>1</th>\n",
       "      <td>POLYGON ((24.0336171 49.843526, 24.0336181 49....</td>\n",
       "      <td>multipolygon</td>\n",
       "      <td>Вірменська вулиця</td>\n",
       "      <td>None</td>\n",
       "      <td>None</td>\n",
       "      <td>None</td>\n",
       "      <td>None</td>\n",
       "      <td>None</td>\n",
       "      <td>None</td>\n",
       "      <td>None</td>\n",
       "      <td>None</td>\n",
       "      <td>museum</td>\n",
       "    </tr>\n",
       "    <tr>\n",
       "      <th>2</th>\n",
       "      <td>POLYGON ((24.0422877 49.8353952, 24.0418367 49...</td>\n",
       "      <td>multipolygon</td>\n",
       "      <td>None</td>\n",
       "      <td>place_of_worship</td>\n",
       "      <td>None</td>\n",
       "      <td>None</td>\n",
       "      <td>None</td>\n",
       "      <td>None</td>\n",
       "      <td>None</td>\n",
       "      <td>None</td>\n",
       "      <td>None</td>\n",
       "      <td>None</td>\n",
       "    </tr>\n",
       "    <tr>\n",
       "      <th>3</th>\n",
       "      <td>POLYGON ((24.0533003 49.8353561, 24.0527459 49...</td>\n",
       "      <td>multipolygon</td>\n",
       "      <td>None</td>\n",
       "      <td>None</td>\n",
       "      <td>None</td>\n",
       "      <td>None</td>\n",
       "      <td>memorial</td>\n",
       "      <td>None</td>\n",
       "      <td>None</td>\n",
       "      <td>None</td>\n",
       "      <td>None</td>\n",
       "      <td>None</td>\n",
       "    </tr>\n",
       "    <tr>\n",
       "      <th>4</th>\n",
       "      <td>POLYGON ((24.0289493 49.842662, 24.0290881 49....</td>\n",
       "      <td>multipolygon</td>\n",
       "      <td>Театральна вулиця</td>\n",
       "      <td>None</td>\n",
       "      <td>None</td>\n",
       "      <td>None</td>\n",
       "      <td>None</td>\n",
       "      <td>None</td>\n",
       "      <td>None</td>\n",
       "      <td>None</td>\n",
       "      <td>None</td>\n",
       "      <td>museum</td>\n",
       "    </tr>\n",
       "    <tr>\n",
       "      <th>...</th>\n",
       "      <td>...</td>\n",
       "      <td>...</td>\n",
       "      <td>...</td>\n",
       "      <td>...</td>\n",
       "      <td>...</td>\n",
       "      <td>...</td>\n",
       "      <td>...</td>\n",
       "      <td>...</td>\n",
       "      <td>...</td>\n",
       "      <td>...</td>\n",
       "      <td>...</td>\n",
       "      <td>...</td>\n",
       "    </tr>\n",
       "    <tr>\n",
       "      <th>24979</th>\n",
       "      <td>POINT (24.0341638 49.8268126)</td>\n",
       "      <td>public_transport</td>\n",
       "      <td>None</td>\n",
       "      <td>None</td>\n",
       "      <td>None</td>\n",
       "      <td>None</td>\n",
       "      <td>None</td>\n",
       "      <td>None</td>\n",
       "      <td>None</td>\n",
       "      <td>stop_area</td>\n",
       "      <td>None</td>\n",
       "      <td>None</td>\n",
       "    </tr>\n",
       "    <tr>\n",
       "      <th>24980</th>\n",
       "      <td>POINT (24.0341882 49.8267575)</td>\n",
       "      <td>public_transport</td>\n",
       "      <td>None</td>\n",
       "      <td>None</td>\n",
       "      <td>None</td>\n",
       "      <td>None</td>\n",
       "      <td>None</td>\n",
       "      <td>None</td>\n",
       "      <td>None</td>\n",
       "      <td>stop_area</td>\n",
       "      <td>None</td>\n",
       "      <td>None</td>\n",
       "    </tr>\n",
       "    <tr>\n",
       "      <th>24981</th>\n",
       "      <td>POINT (24.0005699 49.8289801)</td>\n",
       "      <td>public_transport</td>\n",
       "      <td>None</td>\n",
       "      <td>None</td>\n",
       "      <td>None</td>\n",
       "      <td>None</td>\n",
       "      <td>None</td>\n",
       "      <td>None</td>\n",
       "      <td>None</td>\n",
       "      <td>stop_area</td>\n",
       "      <td>None</td>\n",
       "      <td>None</td>\n",
       "    </tr>\n",
       "    <tr>\n",
       "      <th>24982</th>\n",
       "      <td>POINT (24.0017999 49.8447741)</td>\n",
       "      <td>public_transport</td>\n",
       "      <td>None</td>\n",
       "      <td>None</td>\n",
       "      <td>None</td>\n",
       "      <td>None</td>\n",
       "      <td>None</td>\n",
       "      <td>None</td>\n",
       "      <td>None</td>\n",
       "      <td>stop_area</td>\n",
       "      <td>None</td>\n",
       "      <td>None</td>\n",
       "    </tr>\n",
       "    <tr>\n",
       "      <th>24983</th>\n",
       "      <td>POINT (24.0016226 49.8446666)</td>\n",
       "      <td>public_transport</td>\n",
       "      <td>None</td>\n",
       "      <td>None</td>\n",
       "      <td>None</td>\n",
       "      <td>None</td>\n",
       "      <td>None</td>\n",
       "      <td>None</td>\n",
       "      <td>None</td>\n",
       "      <td>stop_area</td>\n",
       "      <td>None</td>\n",
       "      <td>None</td>\n",
       "    </tr>\n",
       "  </tbody>\n",
       "</table>\n",
       "<p>24984 rows × 12 columns</p>\n",
       "</div>"
      ],
      "text/plain": [
       "                                                geometry              type  \\\n",
       "0      POLYGON ((24.0276306 49.8432171, 24.0276539 49...      multipolygon   \n",
       "1      POLYGON ((24.0336171 49.843526, 24.0336181 49....      multipolygon   \n",
       "2      POLYGON ((24.0422877 49.8353952, 24.0418367 49...      multipolygon   \n",
       "3      POLYGON ((24.0533003 49.8353561, 24.0527459 49...      multipolygon   \n",
       "4      POLYGON ((24.0289493 49.842662, 24.0290881 49....      multipolygon   \n",
       "...                                                  ...               ...   \n",
       "24979                      POINT (24.0341638 49.8268126)  public_transport   \n",
       "24980                      POINT (24.0341882 49.8267575)  public_transport   \n",
       "24981                      POINT (24.0005699 49.8289801)  public_transport   \n",
       "24982                      POINT (24.0017999 49.8447741)  public_transport   \n",
       "24983                      POINT (24.0016226 49.8446666)  public_transport   \n",
       "\n",
       "                  street           amenity craft healthcare  historic leisure  \\\n",
       "0       проспект Свободи              None  None       None      None    None   \n",
       "1      Вірменська вулиця              None  None       None      None    None   \n",
       "2                   None  place_of_worship  None       None      None    None   \n",
       "3                   None              None  None       None  memorial    None   \n",
       "4      Театральна вулиця              None  None       None      None    None   \n",
       "...                  ...               ...   ...        ...       ...     ...   \n",
       "24979               None              None  None       None      None    None   \n",
       "24980               None              None  None       None      None    None   \n",
       "24981               None              None  None       None      None    None   \n",
       "24982               None              None  None       None      None    None   \n",
       "24983               None              None  None       None      None    None   \n",
       "\n",
       "      office public_transport  shop tourism  \n",
       "0       None             None  None  museum  \n",
       "1       None             None  None  museum  \n",
       "2       None             None  None    None  \n",
       "3       None             None  None    None  \n",
       "4       None             None  None  museum  \n",
       "...      ...              ...   ...     ...  \n",
       "24979   None        stop_area  None    None  \n",
       "24980   None        stop_area  None    None  \n",
       "24981   None        stop_area  None    None  \n",
       "24982   None        stop_area  None    None  \n",
       "24983   None        stop_area  None    None  \n",
       "\n",
       "[24984 rows x 12 columns]"
      ]
     },
     "execution_count": 109,
     "metadata": {},
     "output_type": "execute_result"
    }
   ],
   "source": [
    "df"
   ]
  },
  {
   "cell_type": "code",
   "execution_count": 110,
   "id": "2b13044f-dd63-466a-944f-1d7a67c37f93",
   "metadata": {},
   "outputs": [
    {
     "data": {
      "text/html": [
       "<div>\n",
       "<style scoped>\n",
       "    .dataframe tbody tr th:only-of-type {\n",
       "        vertical-align: middle;\n",
       "    }\n",
       "\n",
       "    .dataframe tbody tr th {\n",
       "        vertical-align: top;\n",
       "    }\n",
       "\n",
       "    .dataframe thead th {\n",
       "        text-align: right;\n",
       "    }\n",
       "</style>\n",
       "<table border=\"1\" class=\"dataframe\">\n",
       "  <thead>\n",
       "    <tr style=\"text-align: right;\">\n",
       "      <th></th>\n",
       "      <th>geometry</th>\n",
       "      <th>type</th>\n",
       "      <th>street</th>\n",
       "      <th>amenity</th>\n",
       "      <th>craft</th>\n",
       "      <th>healthcare</th>\n",
       "      <th>historic</th>\n",
       "      <th>leisure</th>\n",
       "      <th>office</th>\n",
       "      <th>public_transport</th>\n",
       "      <th>shop</th>\n",
       "      <th>tourism</th>\n",
       "    </tr>\n",
       "  </thead>\n",
       "  <tbody>\n",
       "  </tbody>\n",
       "</table>\n",
       "</div>"
      ],
      "text/plain": [
       "Empty DataFrame\n",
       "Columns: [geometry, type, street, amenity, craft, healthcare, historic, leisure, office, public_transport, shop, tourism]\n",
       "Index: []"
      ]
     },
     "execution_count": 110,
     "metadata": {},
     "output_type": "execute_result"
    }
   ],
   "source": [
    "df[df[['street', 'amenity', 'craft', 'healthcare', 'historic', 'leisure', 'office', 'public_transport', 'shop', 'tourism']].isna().all(axis=1)]"
   ]
  },
  {
   "cell_type": "code",
   "execution_count": 111,
   "id": "8ecc15ad-a1ea-4776-8820-405d09702ed0",
   "metadata": {},
   "outputs": [],
   "source": [
    "df.to_csv('data/lviv.csv', index=False, encoding='utf-8')"
   ]
  }
 ],
 "metadata": {
  "kernelspec": {
   "display_name": "Python 3 (ipykernel)",
   "language": "python",
   "name": "python3"
  },
  "language_info": {
   "codemirror_mode": {
    "name": "ipython",
    "version": 3
   },
   "file_extension": ".py",
   "mimetype": "text/x-python",
   "name": "python",
   "nbconvert_exporter": "python",
   "pygments_lexer": "ipython3",
   "version": "3.12.11"
  }
 },
 "nbformat": 4,
 "nbformat_minor": 5
}
