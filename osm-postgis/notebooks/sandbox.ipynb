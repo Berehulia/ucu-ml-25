{
 "cells": [
  {
   "cell_type": "code",
   "execution_count": 6,
   "id": "a70b95cb",
   "metadata": {},
   "outputs": [],
   "source": [
    "from sqlalchemy import create_engine, text\n",
    "\n",
    "db_params = {\n",
    "    'dbname': 'osm',\n",
    "    'user': 'postgres',\n",
    "    'password': 'postpass',\n",
    "    'host': 'localhost',\n",
    "    'port': '5432'\n",
    "}\n",
    "\n",
    "engine = create_engine(\n",
    "    f'postgresql://{db_params[\"user\"]}:{db_params[\"password\"]}@{db_params[\"host\"]}:{db_params[\"port\"]}/{db_params[\"dbname\"]}'\n",
    ")"
   ]
  },
  {
   "cell_type": "code",
   "execution_count": 7,
   "id": "4602b81b",
   "metadata": {},
   "outputs": [
    {
     "name": "stdout",
     "output_type": "stream",
     "text": [
      "[('spatial_ref_sys',), ('planet_osm_polygon',), ('planet_osm_roads',), ('planet_osm_point',), ('osm2pgsql_properties',), ('planet_osm_nodes',), ('planet_osm_ways',), ('planet_osm_rels',), ('planet_osm_line',)]\n"
     ]
    }
   ],
   "source": [
    "# Correct: wrap SQL with text()\n",
    "with engine.connect() as conn:\n",
    "    result = conn.execute(\n",
    "        text(\"SELECT tablename FROM pg_tables WHERE schemaname = 'public';\")\n",
    "    )\n",
    "    print(result.fetchall())"
   ]
  },
  {
   "cell_type": "code",
   "execution_count": null,
   "id": "43b69f1f",
   "metadata": {},
   "outputs": [],
   "source": []
  }
 ],
 "metadata": {
  "kernelspec": {
   "display_name": "loc-look-alike-venv",
   "language": "python",
   "name": "python3"
  },
  "language_info": {
   "codemirror_mode": {
    "name": "ipython",
    "version": 3
   },
   "file_extension": ".py",
   "mimetype": "text/x-python",
   "name": "python",
   "nbconvert_exporter": "python",
   "pygments_lexer": "ipython3",
   "version": "3.11.13"
  }
 },
 "nbformat": 4,
 "nbformat_minor": 5
}
