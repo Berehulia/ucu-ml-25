{
 "cells": [
  {
   "cell_type": "code",
   "execution_count": 1,
   "id": "563c77a7",
   "metadata": {},
   "outputs": [],
   "source": [
    "FEATURE_COLUMNS = [\n",
    " 'bench_count',\n",
    " 'cafe_count',\n",
    " 'pharmacy_count',\n",
    " 'waste_disposal_count',\n",
    " 'atm_count',\n",
    " 'post_office_count',\n",
    " 'bank_count',\n",
    " 'restaurant_count',\n",
    " 'waste_basket_count',\n",
    " 'fuel_count',\n",
    " 'shelter_count',\n",
    " 'toilets_count',\n",
    " 'fast_food_count',\n",
    " 'place_of_worship_count',\n",
    " 'bicycle_parking_count',\n",
    " 'parking_count',\n",
    " 'bar_count',\n",
    " 'dentist_count',\n",
    " 'drinking_water_count',\n",
    " 'clinic_count',\n",
    " 'car_wash_count',\n",
    " 'payment_terminal_count',\n",
    " 'recycling_count',\n",
    " 'library_count',\n",
    " 'school_count',\n",
    " 'community_centre_count',\n",
    " 'vending_machine_count',\n",
    " 'pub_count',\n",
    " 'bureau_de_change_count',\n",
    " 'doctors_count',\n",
    " 'atb_count',\n",
    " 'novus_count',\n",
    " 'eko_market_count',\n",
    " 'fora_count',\n",
    " 'apteka_nyzkykh_zin_count',\n",
    " 'apteka_optovykh_zin_count',\n",
    " 'apteka_dobrego_dnya_count',\n",
    " 'apteka_podorozhnyk_count',\n",
    " 'yes_count',\n",
    " 'house_count',\n",
    " 'detached_count',\n",
    " 'apartments_count',\n",
    " 'residential_count',\n",
    " 'shed_count',\n",
    " 'industrial_count',\n",
    " 'garage_count',\n",
    " 'garages_count',\n",
    " 'retail_count',\n",
    " 'level_crossing_count',\n",
    " 'switch_count',\n",
    " 'crossing_count',\n",
    " 'buffer_stop_count',\n",
    " 'tram_level_crossing_count',\n",
    " 'halt_count',\n",
    " 'tram_stop_count',\n",
    " 'tram_crossing_count',\n",
    " 'station_count',\n",
    " 'stop_count',\n",
    " 'signal_count',\n",
    " 'railway_crossing_count',\n",
    " 'subway_entrance_count',\n",
    " 'milestone_count',\n",
    " 'platform_count',\n",
    " 'train_station_entrance_count',\n",
    " 'border_count',\n",
    " 'yard_count',\n",
    " 'proposed:tram_stop_count',\n",
    " 'rail_brake_count',\n",
    " 'crossover_count',\n",
    " 'derail_count',\n",
    " 'owner_change_count',\n",
    " 'stop_position_count',\n",
    " 'hump_yard_count',\n",
    " 'turntable_count',\n",
    " 'ventilation_shaft_count',\n",
    " 'switch;level_crossing_count',\n",
    " 'technical_station_count',\n",
    " 'traffic_signals_count',\n",
    " 'tram_stop;tram_level_crossing_count',\n",
    " 'construction_count',\n",
    " 'junction_count',\n",
    " 'level_crossing;crossing_count',\n",
    " 'pit_count',\n",
    " 'service_station_count',\n",
    " 'signal_box_count',\n",
    " 'stop;crossing_count',\n",
    " 'switch;tram_crossing_count',\n",
    " 'switch;tram_level_crossing_count',\n",
    " 'track_scale_count',\n",
    " 'tram_crossing;tram_level_crossing_count',\n",
    " 'tram_level_crossing;tram_crossing_count',\n",
    " 'tram_stop;tram_crossing_count',\n",
    " 'wash_count',\n",
    " 'water_crane_count',\n",
    " 'farmland_count',\n",
    " 'forest_count',\n",
    " 'grass_count',\n",
    " 'allotments_count',\n",
    " 'meadow_count',\n",
    " 'cemetery_count',\n",
    " 'orchard_count',\n",
    " 'farmyard_count']\n"
   ]
  },
  {
   "cell_type": "code",
   "execution_count": 19,
   "id": "94597618",
   "metadata": {},
   "outputs": [],
   "source": [
    "# %% ---------------------------------------------------------------------------\n",
    "# 1. Imports & configuration\n",
    "# ------------------------------------------------------------------------------\n",
    "import warnings\n",
    "warnings.filterwarnings(\"ignore\")\n",
    "\n",
    "import pandas as pd\n",
    "import numpy as np\n",
    "from sqlalchemy import create_engine\n",
    "import folium\n",
    "from folium.plugins import HeatMap  # still handy if you later want a heatmap\n",
    "import h3pandas  # adds the .h3 accessor to pandas / GeoPandas\n",
    "import joblib\n",
    "import geopandas as gpd\n",
    "from shapely.geometry import Point\n",
    "\n",
    "# Database connection parameters – UPDATE IF NECESSARY\n",
    "DB_CONFIG = {\n",
    "    \"host\": \"localhost\",\n",
    "    \"port\": 5432,\n",
    "    \"database\": \"osm\",\n",
    "    \"user\": \"postgres\",\n",
    "    \"password\": \"postpass\",\n",
    "}\n",
    "CONN_STRING = (\n",
    "    f\"postgresql://{DB_CONFIG['user']}:{DB_CONFIG['password']}@\"\n",
    "    f\"{DB_CONFIG['host']}:{DB_CONFIG['port']}/{DB_CONFIG['database']}\"\n",
    ")\n",
    "\n",
    "MODEL_PATH = \"aurora_location_model.pkl\"\n",
    "\n",
    "# %% ---------------------------------------------------------------------------\n",
    "# 2. Data & model loading\n",
    "# ------------------------------------------------------------------------------\n",
    "\n",
    "def load_lviv_data(conn_string: str, table: str) -> pd.DataFrame:\n",
    "    \"\"\"Load **all** Lviv hexagons from the database (no boundary filtering).\"\"\"\n",
    "    print(\"Connecting to the database …\")\n",
    "    engine = create_engine(conn_string)\n",
    "    # query = \"SELECT * FROM osm_loc_alike_lviv\"\n",
    "    query = f\"SELECT * FROM {table}\"\n",
    "    df = pd.read_sql(query, engine)\n",
    "    print(f\"Loaded {len(df):,} hexagons for Lviv.\")\n",
    "    return df\n",
    "\n",
    "\n",
    "def load_model(path: str):\n",
    "    \"\"\"Load the trained Aurora location model from disk.\"\"\"\n",
    "    print(f\"Loading model from '{path}' …\")\n",
    "    model = joblib.load(path)\n",
    "    print(\"Model loaded OK.\")\n",
    "    return model\n",
    "\n",
    "\n",
    "# %% ---------------------------------------------------------------------------\n",
    "# 3. Prediction helpers\n",
    "# ------------------------------------------------------------------------------\n",
    "\n",
    "def predict_probabilities(model, df: pd.DataFrame) -> pd.DataFrame:\n",
    "    \"\"\"Return a copy of *df* with an added `aurora_probability` column.\"\"\"\n",
    "    df = df.copy()\n",
    "\n",
    "    # Ensure the training features are present – missing -> 0\n",
    "    X = df.reindex(columns=FEATURE_COLUMNS).fillna(0)\n",
    "\n",
    "    # Predict\n",
    "    print(\"Predicting probabilities …\")\n",
    "    df[\"aurora_probability\"] = model.predict_proba(X)[:, 1]\n",
    "    print(\"Prediction finished.\")\n",
    "    return df\n",
    "\n",
    "\n",
    "# %% ---------------------------------------------------------------------------\n",
    "# 4. Geometry helpers\n",
    "# ------------------------------------------------------------------------------\n",
    "\n",
    "def add_hexagon_geometry(df: pd.DataFrame) -> gpd.GeoDataFrame:\n",
    "    \"\"\"Convert H3 indices in the `cell` column to polygon geometries.\"\"\"\n",
    "    # h3pandas adds the .h3 accessor which can do the heavy lifting\n",
    "    geo_df = df.set_index(\"cell\").h3.h3_to_geo_boundary()\n",
    "    geo_df.reset_index(inplace=True)  # bring `cell` back as a column\n",
    "    return geo_df\n",
    "\n",
    "\n",
    "def extract_shop_points(gdf: gpd.GeoDataFrame) -> gpd.GeoDataFrame:\n",
    "    \"\"\"Return centroids of hexagons where an Aurora shop already exists.\"\"\"\n",
    "    shops = gdf[gdf[\"has_aurora\"] == 1].copy()\n",
    "    if shops.empty:\n",
    "        print(\"⚠️  No existing Aurora shops found in this dataset!\")\n",
    "        return gpd.GeoDataFrame(columns=[\"cell\", \"geometry\", \"lat\", \"lon\"])\n",
    "\n",
    "    shops[\"geometry\"] = shops[\"geometry\"].centroid\n",
    "    shops[\"lat\"] = shops.geometry.y\n",
    "    shops[\"lon\"] = shops.geometry.x\n",
    "    return shops[[\"cell\", \"lat\", \"lon\", \"aurora_probability\"]]\n",
    "\n",
    "\n",
    "# %% ---------------------------------------------------------------------------\n",
    "# 5. Visualisation\n",
    "# ------------------------------------------------------------------------------\n",
    "\n",
    "def build_lviv_map(gdf: gpd.GeoDataFrame, shop_points: gpd.GeoDataFrame, location) -> folium.Map:\n",
    "    \"\"\"Create an interactive folium map with two layers:\n",
    "    1. Choropleth of predicted probabilities\n",
    "    2. Circle markers for existing Aurora shops\n",
    "    \"\"\"\n",
    "\n",
    "    print(\"Building interactive map …\")\n",
    "\n",
    "    lviv_map = folium.Map(\n",
    "        location=location,\n",
    "        zoom_start=12,\n",
    "        tiles=\"cartodbpositron\",\n",
    "    )\n",
    "\n",
    "    # -------------- Probability choropleth layer --------------\n",
    "    choropleth = folium.Choropleth(\n",
    "        geo_data=gdf,\n",
    "        name=\"Predicted probability\",\n",
    "        data=gdf,\n",
    "        columns=[\"cell\", \"aurora_probability\"],\n",
    "        key_on=\"feature.properties.cell\",\n",
    "        fill_color=\"YlOrRd\",\n",
    "        fill_opacity=0.7,\n",
    "        line_opacity=0.2,\n",
    "        legend_name=\"Aurora shop probability\",\n",
    "        highlight=True,\n",
    "    ).add_to(lviv_map)\n",
    "\n",
    "    # Add tooltips to show probability per hexagon\n",
    "    folium.GeoJsonTooltip(\n",
    "        fields=[\"cell\", \"aurora_probability\"],\n",
    "        aliases=[\"Cell:\", \"Probability:\"],\n",
    "        localize=True,\n",
    "    ).add_to(choropleth.geojson)\n",
    "\n",
    "    # -------------- Existing shop markers layer --------------\n",
    "    shops_layer = folium.FeatureGroup(name=\"Existing Aurora shops\")\n",
    "    for _, row in shop_points.iterrows():\n",
    "        folium.CircleMarker(\n",
    "            location=[row[\"lat\"], row[\"lon\"]],\n",
    "            radius=6,\n",
    "            color=\"blue\",\n",
    "            fill=True,\n",
    "            fill_color=\"blue\",\n",
    "            fill_opacity=0.9,\n",
    "            tooltip=(\n",
    "                folium.Tooltip(\n",
    "                    f\"Existing Aurora shop\\nCell: {row['cell']}\\n\"\n",
    "                    f\"Predicted prob.: {row['aurora_probability']:.2%}\"\n",
    "                )\n",
    "            ),\n",
    "        ).add_to(shops_layer)\n",
    "    shops_layer.add_to(lviv_map)\n",
    "\n",
    "    # -------------- Controls --------------\n",
    "    folium.LayerControl(collapsed=False).add_to(lviv_map)\n",
    "\n",
    "    return lviv_map\n",
    "\n",
    "\n",
    "# %% ---------------------------------------------------------------------------\n",
    "# 6. Main routine\n",
    "# ------------------------------------------------------------------------------\n"
   ]
  },
  {
   "cell_type": "code",
   "execution_count": 24,
   "id": "6e1f11b5",
   "metadata": {},
   "outputs": [
    {
     "name": "stdout",
     "output_type": "stream",
     "text": [
      "Connecting to the database …\n",
      "Loaded 207 hexagons for Lviv.\n"
     ]
    }
   ],
   "source": [
    "df_lviv = load_lviv_data(CONN_STRING, \"osm_loc_alike_lviv\")"
   ]
  },
  {
   "cell_type": "code",
   "execution_count": 28,
   "id": "156bb38d",
   "metadata": {},
   "outputs": [],
   "source": [
    "import joblib\n",
    "lr_model = joblib.load(\"/Users/n.protsiv/private/ucu-ml-2025/osm-postgis/models/lr.pkl\")\n",
    "\n",
    "rf_model = joblib.load(\"/Users/n.protsiv/private/ucu-ml-2025/osm-postgis/models/best_rf_stratified.pkl\")"
   ]
  },
  {
   "cell_type": "code",
   "execution_count": 38,
   "id": "1874c672",
   "metadata": {},
   "outputs": [
    {
     "name": "stdout",
     "output_type": "stream",
     "text": [
      "Predicting probabilities …\n",
      "Prediction finished.\n"
     ]
    }
   ],
   "source": [
    "# df_pred = predict_probabilities(lr_model, df_lviv)\n",
    "df_pred = predict_probabilities(rf_model, df_lviv)"
   ]
  },
  {
   "cell_type": "code",
   "execution_count": 39,
   "id": "abc367db",
   "metadata": {},
   "outputs": [],
   "source": [
    "gdf = add_hexagon_geometry(df_pred)\n",
    "\n",
    "# Extract existing shop points\n",
    "shop_points = extract_shop_points(gdf)"
   ]
  },
  {
   "cell_type": "code",
   "execution_count": 40,
   "id": "112444fb",
   "metadata": {},
   "outputs": [
    {
     "name": "stdout",
     "output_type": "stream",
     "text": [
      "Building interactive map …\n"
     ]
    }
   ],
   "source": [
    "# Build and save map\n",
    "lviv_map = build_lviv_map(gdf, shop_points, location=[49.8397, 24.0297])\n",
    "# output_html = \"lviv_aurora_lr_prediction_map.html\"\n",
    "output_html = \"lviv_aurora_rf_prediction_map.html\"\n",
    "lviv_map.save(output_html)"
   ]
  },
  {
   "cell_type": "code",
   "execution_count": null,
   "id": "d381f954",
   "metadata": {},
   "outputs": [],
   "source": []
  },
  {
   "cell_type": "code",
   "execution_count": 32,
   "id": "7b0ea640",
   "metadata": {},
   "outputs": [
    {
     "name": "stdout",
     "output_type": "stream",
     "text": [
      "Connecting to the database …\n",
      "Loaded 324 hexagons for Lviv.\n",
      "Predicting probabilities …\n",
      "Prediction finished.\n"
     ]
    }
   ],
   "source": [
    "df_odesa = load_lviv_data(CONN_STRING, \"osm_loc_alike_odesa\")\n",
    "df_pred_odesa = predict_probabilities(rf_model, df_odesa)\n",
    "gdf_odesa = add_hexagon_geometry(df_pred_odesa)\n",
    "shop_points = extract_shop_points(gdf_odesa)"
   ]
  },
  {
   "cell_type": "code",
   "execution_count": 33,
   "id": "ac57aa1e",
   "metadata": {},
   "outputs": [
    {
     "name": "stdout",
     "output_type": "stream",
     "text": [
      "Building interactive map …\n"
     ]
    }
   ],
   "source": [
    "odesa_map = build_lviv_map(gdf_odesa, shop_points, location=[46.47, 30.52])\n",
    "output_html_odesa = \"odesa_aurora_rf_prediction_map.html\"\n",
    "odesa_map.save(output_html_odesa)"
   ]
  },
  {
   "cell_type": "code",
   "execution_count": null,
   "id": "225f2ed6",
   "metadata": {},
   "outputs": [],
   "source": []
  },
  {
   "cell_type": "code",
   "execution_count": 36,
   "id": "6ffe3747",
   "metadata": {},
   "outputs": [
    {
     "name": "stdout",
     "output_type": "stream",
     "text": [
      "Connecting to the database …\n",
      "Loaded 556 hexagons for Lviv.\n",
      "Predicting probabilities …\n",
      "Prediction finished.\n"
     ]
    }
   ],
   "source": [
    "df_harkiv = load_lviv_data(CONN_STRING, \"osm_loc_alike_harkiv\")\n",
    "df_pred_harkiv = predict_probabilities(rf_model, df_harkiv)\n",
    "# df_pred_harkiv = predict_probabilities(lr_model, df_harkiv)\n",
    "gdf_harkiv = add_hexagon_geometry(df_pred_harkiv)\n",
    "shop_points = extract_shop_points(gdf_harkiv)"
   ]
  },
  {
   "cell_type": "code",
   "execution_count": 37,
   "id": "9c9460d8",
   "metadata": {},
   "outputs": [
    {
     "name": "stdout",
     "output_type": "stream",
     "text": [
      "Building interactive map …\n"
     ]
    }
   ],
   "source": [
    "harkiv_map = build_lviv_map(gdf_harkiv, shop_points, location=[50.002, 36.3074])\n",
    "# output_html_harkiv = \"harkiv_aurora_lr_prediction_map.html\"\n",
    "output_html_harkiv = \"harkiv_aurora_rf_prediction_map.html\"\n",
    "harkiv_map.save(output_html_harkiv)"
   ]
  },
  {
   "cell_type": "code",
   "execution_count": null,
   "id": "d1348770",
   "metadata": {},
   "outputs": [],
   "source": []
  },
  {
   "cell_type": "code",
   "execution_count": null,
   "id": "09493816",
   "metadata": {},
   "outputs": [],
   "source": []
  },
  {
   "cell_type": "code",
   "execution_count": null,
   "id": "6b56d036",
   "metadata": {},
   "outputs": [],
   "source": [
    "def main():\n",
    "    # Load resources\n",
    "    model = load_model(MODEL_PATH)\n",
    "    df_lviv = load_lviv_data(CONN_STRING)\n",
    "\n",
    "    # Predict & add geometries\n",
    "    df_pred = predict_probabilities(model, df_lviv)\n",
    "    gdf = add_hexagon_geometry(df_pred)\n",
    "\n",
    "    # Extract existing shop points\n",
    "    shop_points = extract_shop_points(gdf)\n",
    "\n",
    "    # Build and save map\n",
    "    lviv_map = build_lviv_map(gdf, shop_points)\n",
    "    output_html = \"lviv_aurora_prediction_map.html\"\n",
    "    lviv_map.save(output_html)\n",
    "\n",
    "    # Show top‑10 candidates in the console\n",
    "    print(\"\\nTop 10 recommended locations (predicted, no existing shop):\")\n",
    "    print(\n",
    "        df_pred[df_pred[\"has_aurora\"] == 0]\n",
    "        .nlargest(10, \"aurora_probability\")[[\"cell\", \"aurora_probability\"]]\n",
    "        .reset_index(drop=True)\n",
    "    )\n",
    "\n",
    "    print(f\"\\n✅  Map saved to '{output_html}'. Open the file in a browser to explore!\")\n",
    "\n",
    "main()"
   ]
  }
 ],
 "metadata": {
  "kernelspec": {
   "display_name": "loc-look-alike-venv",
   "language": "python",
   "name": "python3"
  },
  "language_info": {
   "codemirror_mode": {
    "name": "ipython",
    "version": 3
   },
   "file_extension": ".py",
   "mimetype": "text/x-python",
   "name": "python",
   "nbconvert_exporter": "python",
   "pygments_lexer": "ipython3",
   "version": "3.11.13"
  }
 },
 "nbformat": 4,
 "nbformat_minor": 5
}
